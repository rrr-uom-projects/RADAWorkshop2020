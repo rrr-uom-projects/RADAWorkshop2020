{
 "cells": [
  {
   "cell_type": "markdown",
   "metadata": {},
   "source": [
    "# Clinical data for the project\n",
    "\n",
    "In the file ClinicalData.csv in the data folder you will see a subset of clinical variables for the patient population we are exploring.  These variables have been stored numerically, eventhough some of these are categorical. \n",
    "\n",
    "In this notebook, you will be able to load the clinical variables from a csv file, explore the meaning of each of them, as well as visualize them. \n",
    "\n",
    "At the end of the notebook, you are requested to select the variable you want to keep for the next part of the project (CNNs for classification/regression) and store it as a new csv.  "
   ]
  },
  {
   "cell_type": "markdown",
   "metadata": {},
   "source": [
    "The first step is to initialize the notebook:"
   ]
  },
  {
   "cell_type": "code",
   "execution_count": null,
   "metadata": {},
   "outputs": [],
   "source": [
    "%%javascript\n",
    "// this cell stops the notebook from putting output in scrolling frames\n",
    "IPython.OutputArea.prototype._should_scroll = function(lines){return false;}"
   ]
  },
  {
   "cell_type": "code",
   "execution_count": null,
   "metadata": {},
   "outputs": [],
   "source": [
    "%matplotlib notebook \n",
    "# alternatives notebook inline"
   ]
  },
  {
   "cell_type": "markdown",
   "metadata": {},
   "source": [
    "## Reading and accessing data using pandas\n",
    "\n",
    "We will use pandas for data IO and simple visualization.  Some info for reference: \n",
    "- [API reference](https://pandas.pydata.org/pandas-docs/stable/reference/index.html) \n",
    "- [User guide](https://pandas.pydata.org/pandas-docs/stable/user_guide/index.html).\n",
    "\n",
    "Let's start by importing the libraries and setting up the basefolder:"
   ]
  },
  {
   "cell_type": "code",
   "execution_count": null,
   "metadata": {},
   "outputs": [],
   "source": [
    "import pandas as pd\n",
    "import matplotlib.pyplot as plt\n",
    "import numpy as np\n",
    "\n",
    "basefolder=\"T:/Eliana/RADACol2020/MoveToVM/\""
   ]
  },
  {
   "cell_type": "markdown",
   "metadata": {},
   "source": [
    "Let's read the file using the read_csv() function, and then showing the loaded data.  The result of calling read_csv() is a [dataframe](https://pandas.pydata.org/pandas-docs/stable/reference/frame.html).\n",
    "\n",
    "Note that by setting index_col = 0 in read_csv() function, we are requesting to get the values stored in the first column (xID) to be the label of the rows. Remember that python is 0-based, meaning that the index of the first column or row is 0."
   ]
  },
  {
   "cell_type": "code",
   "execution_count": null,
   "metadata": {},
   "outputs": [],
   "source": [
    "# first column, xID, used as indices of the dataframe:\n",
    "clinicalfile = basefolder + \"ClinicalData.csv\"\n",
    "cdata = pd.read_csv(clinicalfile, index_col=0);\n",
    "cdata"
   ]
  },
  {
   "cell_type": "code",
   "execution_count": null,
   "metadata": {
    "scrolled": true
   },
   "outputs": [],
   "source": [
    "cdata.info()"
   ]
  },
  {
   "cell_type": "markdown",
   "metadata": {},
   "source": [
    "### Accessing data in the pandas dataframe\n",
    "\n",
    "To access a particular value in the dataframe, you can use either\n",
    "- loc(): where you need to use the row's label and column names\n",
    "- iloc(): where you use the row's and column's positions"
   ]
  },
  {
   "cell_type": "code",
   "execution_count": null,
   "metadata": {},
   "outputs": [],
   "source": [
    "print( cdata.loc[1,\"follow_up\"] ) # xID started in 1.  SO the first element is 1 rather than 0 when using row labels.\n",
    "print( cdata.iloc[0,1] )"
   ]
  },
  {
   "cell_type": "markdown",
   "metadata": {},
   "source": [
    "You can also access the values of a whole column or a whole row:"
   ]
  },
  {
   "cell_type": "code",
   "execution_count": null,
   "metadata": {},
   "outputs": [],
   "source": [
    "cdata[\"follow_up\"]"
   ]
  },
  {
   "cell_type": "code",
   "execution_count": null,
   "metadata": {},
   "outputs": [],
   "source": [
    "cdata.loc[1]"
   ]
  },
  {
   "cell_type": "markdown",
   "metadata": {},
   "source": [
    "You can also select a subset of values using array slicing:"
   ]
  },
  {
   "cell_type": "code",
   "execution_count": null,
   "metadata": {},
   "outputs": [],
   "source": [
    "cdata.iloc[100:110,0:3]"
   ]
  },
  {
   "cell_type": "code",
   "execution_count": null,
   "metadata": {
    "scrolled": true
   },
   "outputs": [],
   "source": [
    "#some code to have the column number of each column\n",
    "counter = 0\n",
    "for coli in cdata.columns:\n",
    "    print('column ' + str(counter) + ' --> ' + coli)\n",
    "    counter = counter+1\n"
   ]
  },
  {
   "cell_type": "markdown",
   "metadata": {},
   "source": [
    "# Clinical variables available\n",
    "\n",
    "## Survival data: status, follow_up\n",
    "\n",
    "These two variables work together to determine whether a patient was dead or alive at a given time (e.g. 12 monthns).\n",
    "- **Status**: determines whether the patient was alive (0) or dead (1) at the time of the last follow up appointment.\n",
    "- **follow_up**: determines when was the last time a patient was seen (if status is 0) or when the patient died (if status is 1)\n",
    "\n",
    "\n",
    "- **Location in dataframe:** columns 0 and 1\n",
    "- **Missing value flag:** -1 (none)"
   ]
  },
  {
   "cell_type": "code",
   "execution_count": null,
   "metadata": {},
   "outputs": [],
   "source": [
    "print( 'status, in column 0, has ' + str((cdata.iloc[:,0] == -1).sum()) + ' missing values.' )\n",
    "print( 'follow_up, in column 1, has ' + str((cdata.iloc[:,1] == -1).sum()) + ' missing values.' )\n",
    "\n",
    "cdata.boxplot(column=\"follow_up\", by='status')\n",
    "plt.ylabel('Follow up (months)')"
   ]
  },
  {
   "cell_type": "markdown",
   "metadata": {},
   "source": [
    "### Binarizing survival data\n",
    "Especial care should be taken when classifying patients as 'dead' or 'alive' for a given time 't'.  The key point is: it is impossible to know the whether a patient is dead/alive when t is larger than their follow_up (t > follow_up), and they were alive at the last follow-up appointment (status == 0).  The way to deal with these 'unknown' status in statistical analysis is via [censoring](https://en.wikipedia.org/wiki/Censoring_(statistics)).\n",
    "\n",
    "Therefore, whenever you binarize survival data at a given time 't', you will have up to three resulting status:\n",
    "- Alive\n",
    "- Dead\n",
    "- Unknown\n",
    "\n",
    "Here we show you how to do binarization for a given time t. We will be storing the values in a new column named \"status_at_[t]\". The values in the column are: 0 for alive, 1 for dead, -1 for unknown."
   ]
  },
  {
   "cell_type": "code",
   "execution_count": null,
   "metadata": {},
   "outputs": [],
   "source": [
    "t = 24 # months\n",
    "newcolname = 'status_at_' + str(t)\n",
    "\n",
    "cdata[newcolname] = -1 # let's assume that we don't know the status of anyone.\n",
    "\n",
    "# we know that if follow_up == t, then the status at t is the same as the value in status.\n",
    "cdata.loc[(cdata['follow_up']==t), newcolname] = cdata.loc[(cdata['follow_up']==t), 'status'];\n",
    "print(cdata[newcolname].value_counts().sort_index())\n",
    "\n",
    "# we know that if the follow_up > t, the patient was alive at t.\n",
    "cdata.loc[cdata['follow_up']>t, newcolname] = 0;\n",
    "print(cdata[newcolname].value_counts().sort_index())\n",
    "\n",
    "# we know that if the follow_up < t and status = 1, then the patient was already dead at t.\n",
    "cdata.loc[(cdata['follow_up']<t)&(cdata['status']==1), newcolname] = 1;\n",
    "print(cdata[newcolname].value_counts().sort_index())\n",
    "\n",
    "# we don't know the status at ti for patients which follow_up < t and status = 0.\n",
    "# Note that this step can be skipped as we initialize the newcolumn with -1s\n",
    "cdata.loc[(cdata['follow_up']<t)&(cdata['status']==0), newcolname] = -1;\n",
    "print(cdata[newcolname].value_counts().sort_index())\n",
    "\n",
    "# we can now plot the proportions of patients dead/alive/unknown using a pie!\n",
    "plt.figure()\n",
    "cdata[newcolname].value_counts().sort_index().plot.pie()"
   ]
  },
  {
   "cell_type": "markdown",
   "metadata": {},
   "source": [
    "## Tumour size\n",
    "It is the volume of the visible tumour, as segmented for treatment planning (in cubic cm). It includes the primary tumour and visibly affected lymph nodes.\n",
    "\n",
    "- **Location in dataframe:** column 2\n",
    "- **Missing value flag:** -1"
   ]
  },
  {
   "cell_type": "code",
   "execution_count": null,
   "metadata": {},
   "outputs": [],
   "source": [
    "print( 'Tumour_size, in column 2, has ' + str((cdata.iloc[:,2] == -1).sum()) + ' missing values.' )\n",
    "\n",
    "cdata.plot.box(y='tumour_size') # alternatively cdata.plot.box(y=2)\n",
    "plt.ylabel('Tumour volume (cm3)')"
   ]
  },
  {
   "cell_type": "markdown",
   "metadata": {},
   "source": [
    "## Age\n",
    "It is the age of the patient at the moment that treatment started (in years).\n",
    "\n",
    "- **Location in dataframe:** column 3\n",
    "- **Missing value flag:** -1"
   ]
  },
  {
   "cell_type": "code",
   "execution_count": null,
   "metadata": {},
   "outputs": [],
   "source": [
    "print( 'Age, in column 3, has ' + str((cdata.iloc[:,3] == -1).sum()) + ' missing values.' )\n",
    "\n",
    "cdata.plot(y='age',style='k.')\n",
    "axis = plt.axis()\n",
    "print(axis)\n",
    "plt.plot( axis[0:2], [0,0], 'r-' )\n",
    "plt.ylabel('Age (y)')\n",
    "\n",
    "# values under the red line are missing\n",
    "# ageNoMissingData = cdata.loc[(cdata.iloc[:,4]!=-1),'Age'];\n"
   ]
  },
  {
   "cell_type": "markdown",
   "metadata": {},
   "source": [
    "## Gender\n",
    "Biological sex of the patient.  Categorical variable stored as numeric: 1 is female, 2 is male\n",
    "\n",
    "- **Location in dataframe:** column 4\n",
    "- **Missing value flag:** -1"
   ]
  },
  {
   "cell_type": "code",
   "execution_count": null,
   "metadata": {},
   "outputs": [],
   "source": [
    "print( 'Gender, in column 4, has ' + str((cdata.iloc[:,4] == -1).sum()) + ' missing values.' )\n",
    "\n",
    "#value is stored as numerical type\n",
    "plt.figure()\n",
    "cdata[\"gender\"].value_counts().plot.pie(figsize=[3,3])"
   ]
  },
  {
   "cell_type": "markdown",
   "metadata": {},
   "source": [
    "## Performance status\n",
    "\n",
    "It is a quantity that aims at assessing the fitness of the patient before the treatment starts.  The scale used is the [ECOG/WHO system](https://ecog-acrin.org/resources/ecog-performance-status) which ranges from 0 to 5:\n",
    "- 0: fully active,\n",
    "- 1: unable to do strenous activities (heavy work), but otherwise ok,\n",
    "- 2: able to walk and manage self-care but not able to work,\n",
    "- 3: confined to bed/chair for more than 50% of waking hours,\n",
    "- 4: totally confined to bed/chair,\n",
    "- 5: dead.\n",
    "\n",
    "It has a degree of subjectivity.\n",
    "\n",
    "- **Location in dataframe:** column 5\n",
    "- **Missing value flag:** -1"
   ]
  },
  {
   "cell_type": "code",
   "execution_count": null,
   "metadata": {},
   "outputs": [],
   "source": [
    "print( 'performance_status, in column 5, has ' + str((cdata.iloc[:,5] == -1).sum()) + ' missing values.' )\n",
    "\n",
    "#value is stored as numerical type\n",
    "plt.figure()\n",
    "cdata[\"performance_status\"].value_counts().sort_index().plot.bar()\n",
    "plt.ylabel('Count')"
   ]
  },
  {
   "cell_type": "markdown",
   "metadata": {},
   "source": [
    "## TNM stage\n",
    "Classification which describes the extent of spread of cancer.\n",
    "- **T** describes the size of the primary tumour and whether it has invaded nearby tissue.  Values are X (stored as 0), 1 to 4.\n",
    "- **N** describes nearby lymph nodes that are involved. Values are X (stored as 0), 1 to 3.\n",
    "- **M** describes whether there is distant metastasis. Values are 0 or 1 (boolean).\n",
    "\n",
    "Specific meaning of the TNM stage can vary depending on the site, e.g. [lung cancer patients](https://www.cancerresearchuk.org/about-cancer/lung-cancer/stages-types-grades/tnm-staging).\n",
    "\n",
    "- **Location in dataframe:** column 6, 7 and 8\n",
    "- **Missing value flag:** -1"
   ]
  },
  {
   "cell_type": "code",
   "execution_count": null,
   "metadata": {},
   "outputs": [],
   "source": [
    "print( 't_stage, in column 6, has ' + str((cdata.iloc[:,6] == -1).sum()) + ' missing values.' )\n",
    "print( 'n_stage, in column 7, has ' + str((cdata.iloc[:,7] == -1).sum()) + ' missing values.' )\n",
    "print( 'm_stage, in column 8, has ' + str((cdata.iloc[:,8] == -1).sum()) + ' missing values.' )\n",
    "\n",
    "\n",
    "#value is stored as numerical type\n",
    "plt.figure(); cdata[\"t_stage\"].value_counts().sort_index().plot.pie(figsize=[3,3])\n",
    "plt.figure(); cdata[\"n_stage\"].value_counts().sort_index().plot.pie(figsize=[3,3])\n",
    "plt.figure(); cdata[\"m_stage\"].value_counts().sort_index().plot.pie(figsize=[3,3])"
   ]
  },
  {
   "cell_type": "markdown",
   "metadata": {},
   "source": [
    "# YOUR TURN\n",
    "1. Decide which variable you want to explore in the second part of the project. We will recommend you to start with survival at 12 months, as this is corresponds to the [original analysis](https://www.sciencedirect.com/science/article/pii/S0959804917312017). Check the section in binarizing survival data.\n",
    "2. Select the clinical variable for the next part of the analysis and create a new dataframe.\n",
    "3. Save the new dataframe as a new csv.  Check the function [to_csv()](https://pandas.pydata.org/pandas-docs/stable/user_guide/io.html#io-store-in-csv)\n",
    "\n",
    "Later, you can come back to this code and generate other outputs."
   ]
  },
  {
   "cell_type": "code",
   "execution_count": null,
   "metadata": {},
   "outputs": [],
   "source": []
  },
  {
   "cell_type": "code",
   "execution_count": null,
   "metadata": {},
   "outputs": [],
   "source": []
  },
  {
   "cell_type": "code",
   "execution_count": null,
   "metadata": {},
   "outputs": [],
   "source": []
  }
 ],
 "metadata": {
  "kernelspec": {
   "display_name": "Python 3",
   "language": "python",
   "name": "python3"
  },
  "language_info": {
   "codemirror_mode": {
    "name": "ipython",
    "version": 3
   },
   "file_extension": ".py",
   "mimetype": "text/x-python",
   "name": "python",
   "nbconvert_exporter": "python",
   "pygments_lexer": "ipython3",
   "version": "3.7.4"
  }
 },
 "nbformat": 4,
 "nbformat_minor": 2
}
