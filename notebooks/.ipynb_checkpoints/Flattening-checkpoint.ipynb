{
 "cells": [
  {
   "cell_type": "markdown",
   "metadata": {},
   "source": [
    "# Flattening 3D dose to 2D colour images\n",
    "\n",
    "To apply transfer learning as we did with the ants/bees notebooks, we need to flatten the data.\n",
    "\n",
    "In this notebook we explore different ways to flatten 3D images, such as the dose cubes."
   ]
  },
  {
   "cell_type": "markdown",
   "metadata": {},
   "source": [
    "# Before we start...\n",
    "Let's set the notebook and add a function to visualize 3D and 2D datasets:\n"
   ]
  },
  {
   "cell_type": "code",
   "execution_count": null,
   "metadata": {},
   "outputs": [],
   "source": [
    "%matplotlib notebook \n",
    "# alternative inline"
   ]
  },
  {
   "cell_type": "code",
   "execution_count": null,
   "metadata": {},
   "outputs": [],
   "source": [
    "from ipywidgets import interact, fixed\n",
    "import matplotlib.pyplot as plt\n",
    "\n",
    "def display_3Dimage(image, cmap=plt.cm.gray):  \n",
    "    fig, ax = plt.subplots()\n",
    "    plt.subplot(1,1,1)\n",
    "    imin = image.min()\n",
    "    imax = image.max()\n",
    "\n",
    "    def display_imageFrame(framenr):\n",
    "        plt.clf()\n",
    "        ax = plt.imshow(image[:,:,framenr], interpolation='none', cmap=cmap, vmin=imin, vmax=imax)\n",
    "        # selecting the last dimension shows the data in the coronal plane!\n",
    "        plt.gca().invert_yaxis()\n",
    "        return ax\n",
    "    interact(display_imageFrame, framenr=(0,image.shape[2]-1))\n",
    "    \n",
    "def display_2Dimage(iimage, cmap=plt.cm.gray):\n",
    "    fig, ax = plt.subplots()\n",
    "    plt.subplot(1,1,1)\n",
    "    ax = plt.imshow(iimage, interpolation='none', cmap=cmap)\n",
    "    plt.gca().invert_yaxis()\n",
    "    return ax\n",
    "    "
   ]
  },
  {
   "cell_type": "markdown",
   "metadata": {},
   "source": [
    "## Reading a 3D image\n",
    "\n",
    "Let's start setting up the folders where the different datasets are stored: Dose cubes, Segmented CT and tumour masks (CTVs).\n",
    "These data has been standarized to only show the region where lungs were identified, in a 256 x 256 x 256 cube.\n",
    "\n",
    "To see the size of a voxel for a given image, look into the file 'resolutions.csv' in data/DoseCubes."
   ]
  },
  {
   "cell_type": "code",
   "execution_count": null,
   "metadata": {},
   "outputs": [],
   "source": [
    "basefolder=\"T:/Eliana/RADACol2020/MoveToVM/DoseCubes/\"\n",
    "dosefolder = basefolder+'Dose/'\n",
    "ctvmaskfolder = basefolder+'CTVMask/'\n",
    "ctsegfolder = basefolder+'CTseg/'"
   ]
  },
  {
   "attachments": {},
   "cell_type": "markdown",
   "metadata": {},
   "source": [
    "We will use SimpleITK to read data.  \n",
    "For example the first dose cube, stored as 1.nii*  \n",
    "\n",
    "*.nii are nifti images."
   ]
  },
  {
   "cell_type": "code",
   "execution_count": null,
   "metadata": {},
   "outputs": [],
   "source": [
    "import SimpleITK as sitk\n",
    "\n",
    "doseCubeITK = sitk.ReadImage(dosefolder+'1.nii') \n",
    "doseCube = sitk.GetArrayFromImage(doseCubeITK)\n",
    "\n",
    "display_3Dimage(doseCube, cmap=plt.cm.jet)"
   ]
  },
  {
   "cell_type": "markdown",
   "metadata": {},
   "source": [
    "## Flattening 3D data to 2D: statistical approach\n",
    "We can use statistical summaries such as mean, max, percentil, to create a 2D matrix from the original 3D image.\n"
   ]
  },
  {
   "cell_type": "code",
   "execution_count": null,
   "metadata": {},
   "outputs": [],
   "source": [
    "import numpy as np\n",
    "\n",
    "mean2D = np.mean(doseCube, axis=2)\n",
    "display_2Dimage(mean2D, cmap=plt.cm.jet)"
   ]
  },
  {
   "cell_type": "code",
   "execution_count": null,
   "metadata": {},
   "outputs": [],
   "source": [
    "max2D = np.max(doseCube, axis=2)\n",
    "display_2Dimage(max2D, cmap=plt.cm.jet)"
   ]
  },
  {
   "cell_type": "code",
   "execution_count": null,
   "metadata": {},
   "outputs": [],
   "source": [
    "p70_2D = np.percentile(doseCube, 70, axis=2)\n",
    "display_2Dimage(p70_2D, cmap=plt.cm.jet)"
   ]
  },
  {
   "cell_type": "markdown",
   "metadata": {},
   "source": [
    "## Flattening 3D data to 2D: array slicing approach\n",
    "We can also decide to only use one of the slices, being axial, coronal or sagittal views (https://en.wikipedia.org/wiki/Anatomical_plane)."
   ]
  },
  {
   "cell_type": "code",
   "execution_count": null,
   "metadata": {},
   "outputs": [],
   "source": [
    "slicenr = 128;\n",
    "axial2D = doseCube[slicenr,:,:];\n",
    "display_2Dimage(coronal2D, cmap=plt.cm.jet)"
   ]
  },
  {
   "cell_type": "code",
   "execution_count": null,
   "metadata": {},
   "outputs": [],
   "source": [
    "sagittal2D = doseCube[:,slicenr,:];\n",
    "display_2Dimage(sagittal2D, cmap=plt.cm.jet)\n"
   ]
  },
  {
   "cell_type": "code",
   "execution_count": null,
   "metadata": {},
   "outputs": [],
   "source": [
    "coronal2D = doseCube[:,:,slicenr];\n",
    "display_2Dimage(coronal2D, cmap=plt.cm.jet)"
   ]
  },
  {
   "cell_type": "markdown",
   "metadata": {},
   "source": [
    "## Creating a RGB and saving it"
   ]
  },
  {
   "cell_type": "code",
   "execution_count": null,
   "metadata": {},
   "outputs": [],
   "source": []
  }
 ],
 "metadata": {
  "kernelspec": {
   "display_name": "Python 3",
   "language": "python",
   "name": "python3"
  },
  "language_info": {
   "codemirror_mode": {
    "name": "ipython",
    "version": 3
   },
   "file_extension": ".py",
   "mimetype": "text/x-python",
   "name": "python",
   "nbconvert_exporter": "python",
   "pygments_lexer": "ipython3",
   "version": "3.7.4"
  }
 },
 "nbformat": 4,
 "nbformat_minor": 2
}
