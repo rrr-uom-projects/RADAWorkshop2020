{
 "cells": [
  {
   "cell_type": "markdown",
   "metadata": {},
   "source": [
    "# Flattening 3D dose to 2D colour images\n",
    "\n",
    "To apply transfer learning as we did with the ants/bees notebooks, we need to flatten the input data: in our case the dose distribution planned to the patients.\n",
    "\n",
    "In this notebook we explore different ways to flatten 3D images, such as the dose cubes:\n",
    "1. Using statistical summaries such as mean, max, percentil\n",
    "2. Selecting a particular slice number\n",
    "\n",
    "Also we explore:\n",
    "- Creating and saving images using colormaps\n",
    "- Combining components to generate RGB figures and saving it"
   ]
  },
  {
   "cell_type": "markdown",
   "metadata": {},
   "source": [
    "# Before we start\n",
    "Let's set the notebook and ...\n"
   ]
  },
  {
   "cell_type": "code",
   "execution_count": null,
   "metadata": {},
   "outputs": [],
   "source": [
    "%matplotlib notebook \n",
    "# alternatives notebook inline"
   ]
  },
  {
   "cell_type": "code",
   "execution_count": null,
   "metadata": {},
   "outputs": [],
   "source": [
    "%%javascript\n",
    "// this cell stops the notebook from putting output in scrolling frames\n",
    "IPython.OutputArea.prototype._should_scroll = function(lines){return false;}"
   ]
  },
  {
   "cell_type": "markdown",
   "metadata": {},
   "source": [
    "add functions to visualize 3D and 2D datasets. \n",
    "Notice that you can choose different colormaps by setting the variable cmap in display_3Dimage() and display_2Dimage(); see https://matplotlib.org/tutorials/colors/colormaps.html."
   ]
  },
  {
   "cell_type": "code",
   "execution_count": null,
   "metadata": {},
   "outputs": [],
   "source": [
    "import matplotlib.pyplot as plt\n",
    "from ipywidgets import interact\n",
    "import ipywidgets as widgets\n",
    "\n",
    "def display_3Dimage(image, cmap=plt.cm.gray):    \n",
    "    fig = plt.figure(figsize=[5,5])\n",
    "    ax = plt.axes([0,0,1,1]);\n",
    "    plt.axis('off')\n",
    "    thisfigure = plt.gcf().number\n",
    "    #plt.subplot(1,1,1)\n",
    "    imin = image.min()\n",
    "    imax = image.max()\n",
    "\n",
    "    def show1Frame(framenr):\n",
    "        fig = plt.figure(thisfigure)\n",
    "        plt.clf()\n",
    "        ax = plt.imshow(image[:,:,framenr], interpolation='none', cmap=cmap, vmin=imin, vmax=imax)\n",
    "        # selecting the last dimension shows the data in the coronal plane!\n",
    "        plt.gca().invert_yaxis()\n",
    "        return ax\n",
    "    \n",
    "    interact(show1Frame, framenr=widgets.IntSlider(min=0, max=image.shape[2]-1, step=1, value=128, continuous_update=False))"
   ]
  },
  {
   "cell_type": "code",
   "execution_count": null,
   "metadata": {},
   "outputs": [],
   "source": [
    "def display_2Dimage(iimage, cmap=plt.cm.gray):\n",
    "    fig = plt.figure(figsize=[5,5])\n",
    "    ax = plt.axes([0,0,1,1])\n",
    "    ax.set_axis_off()\n",
    "    fig.add_axes(ax)\n",
    "    ax.imshow(iimage, interpolation='none', aspect='equal', cmap=cmap)\n",
    "    ax.invert_yaxis()\n",
    "    return ax"
   ]
  },
  {
   "cell_type": "code",
   "execution_count": null,
   "metadata": {},
   "outputs": [],
   "source": [
    "def display_RGBimage(iimage):\n",
    "    fig = plt.figure(figsize=[5,5])\n",
    "    ax = plt.axes([0,0,1,1])\n",
    "    ax.set_axis_off()\n",
    "    fig.add_axes(ax)\n",
    "    ax.imshow(iimage, interpolation='none', aspect='equal')\n",
    "    ax.invert_yaxis()\n",
    "    #plt.show()\n",
    "    return ax"
   ]
  },
  {
   "cell_type": "markdown",
   "metadata": {},
   "source": [
    "## Reading a 3D image\n",
    "\n",
    "Let's start setting up the folders where the different datasets are stored: Dose cubes, Segmented CT and tumour masks (CTVs).\n",
    "These data has been standarized to only show the region where lungs were identified, in a 256 x 256 x 256 cube.\n",
    "\n",
    "To see the size of a voxel for a given image, look into the file 'resolutions.csv' in data/DoseCubes."
   ]
  },
  {
   "cell_type": "code",
   "execution_count": null,
   "metadata": {},
   "outputs": [],
   "source": [
    "basefolder=\"T:/Eliana/RADACol2020/MoveToVM/DoseCubes/\"\n",
    "dosefolder = basefolder+'Dose/'\n",
    "ctvmaskfolder = basefolder+'CTVMask/'\n",
    "ctsegfolder = basefolder+'CTseg/'"
   ]
  },
  {
   "cell_type": "markdown",
   "metadata": {},
   "source": [
    "We will use SimpleITK to read data.  \n",
    "For example the first CTseg and dose cube, stored as 1.nii*  \n",
    "\n",
    "*.nii are nifti images."
   ]
  },
  {
   "cell_type": "code",
   "execution_count": null,
   "metadata": {
    "scrolled": true
   },
   "outputs": [],
   "source": [
    "import SimpleITK as sitk\n",
    "\n",
    "ctsegITK = sitk.ReadImage(ctsegfolder+'1.nii') \n",
    "ctseg = sitk.GetArrayFromImage(ctsegITK).astype(float)\n",
    "\n",
    "display_3Dimage(ctseg)"
   ]
  },
  {
   "cell_type": "code",
   "execution_count": null,
   "metadata": {},
   "outputs": [],
   "source": [
    "curfname = '1'\n",
    "doseCubeITK = sitk.ReadImage(dosefolder+curfname+'.nii') \n",
    "doseCube = sitk.GetArrayFromImage(doseCubeITK)\n",
    "display_3Dimage(doseCube, cmap=plt.cm.jet)"
   ]
  },
  {
   "cell_type": "markdown",
   "metadata": {},
   "source": [
    "## 1. Flattening 3D data to 2D: statistical approach\n",
    "We can use statistical summaries such as mean, max, percentil (e.g. 70), to create a 2D matrix from the original 3D image.\n"
   ]
  },
  {
   "cell_type": "code",
   "execution_count": null,
   "metadata": {},
   "outputs": [],
   "source": [
    "import numpy as np\n",
    "\n",
    "mean2D = np.mean(doseCube, axis=2)\n",
    "print('Mean:')\n",
    "display_2Dimage(mean2D, cmap=plt.cm.jet)\n",
    "\n",
    "print('Max:')\n",
    "max2D = np.max(doseCube, axis=2)\n",
    "display_2Dimage(max2D, cmap=plt.cm.jet)\n",
    "\n",
    "print('Percentile 70:')\n",
    "p70_2D = np.percentile(doseCube, 70, axis=2)\n",
    "display_2Dimage(p70_2D, cmap=plt.cm.jet)\n"
   ]
  },
  {
   "cell_type": "markdown",
   "metadata": {},
   "source": [
    "## 2. Flattening 3D data to 2D: array slicing approach\n",
    "We can also decide to only use one of the slices making up the 3D image.  In this case we use the last dimension to produce coronal images. "
   ]
  },
  {
   "cell_type": "code",
   "execution_count": null,
   "metadata": {},
   "outputs": [],
   "source": [
    "slicenr = 128;\n",
    "coronal2D = doseCube[:,:,slicenr];\n",
    "print('Slice '+str(slicenr)+\":\")\n",
    "display_2Dimage(coronal2D, cmap=plt.cm.jet)\n"
   ]
  },
  {
   "cell_type": "markdown",
   "metadata": {},
   "source": [
    "## - Applying colormaps\n",
    "Up to now, we have visualised datasets using gray values and a blue-to-red colormap (jet).  There are many more colormaps that you can explore (see https://matplotlib.org/tutorials/colors/colormaps.html), and which may have impact in the CNN performance.  You can choose different colormaps by setting the variable cmap in display_3Dimage() and display_2Dimage().  For example:\n"
   ]
  },
  {
   "cell_type": "code",
   "execution_count": null,
   "metadata": {},
   "outputs": [],
   "source": [
    "display_2Dimage(mean2D, cmap=plt.cm.plasma)\n",
    "display_2Dimage(mean2D, cmap=plt.cm.Greens)\n",
    "display_2Dimage(mean2D, cmap=plt.cm.hot)\n"
   ]
  },
  {
   "cell_type": "markdown",
   "metadata": {},
   "source": [
    "## -- Save an image created with a colormap to a file\n",
    "To be able to use these images training CNNs, we need to save them as images.  Important things to notice:\n",
    "1. We need to create a subfolder to store the images into.\n",
    "2. When saving, we want to keep the same name as the nifti image that was read \n",
    "3. We also want to avoid saving the white space, axis and so on around the figures"
   ]
  },
  {
   "cell_type": "code",
   "execution_count": null,
   "metadata": {
    "scrolled": false
   },
   "outputs": [],
   "source": [
    "import os\n",
    "\n",
    "# step 1. \n",
    "outputfolder = basefolder + 'testFolder/'\n",
    "if not os.path.isdir(outputfolder):\n",
    "    os.mkdir(outputfolder)\n",
    "\n",
    "# step 2.  we will use curfname\n",
    "outputfname = outputfolder + curfname + '.png'\n",
    "\n",
    "# step 3. Plot (using a different cmap for fun) and save without the white space (bbox_inches=0, pad_inches=0)\n",
    "display_2Dimage(coronal2D, cmap=plt.cm.cubehelix)\n",
    "plt.savefig(outputfname, bbox_inches=0, pad_inches = 0, dpi = 100 )"
   ]
  },
  {
   "cell_type": "markdown",
   "metadata": {},
   "source": [
    "## - Creating a RGB from different components\n",
    "Alternatively to using colormaps in a single 2D image, you can decide to mix 3 different components in the R, G, B layers of an image.  For example, you may want to combine the mean, max and percentile 70 for the dose cubes.  For that you need to:\n",
    "1. Normalize each map to 0...255\n",
    "2. Cast the dataset to uint8\n",
    "3. Stack the three components in a single variable."
   ]
  },
  {
   "cell_type": "code",
   "execution_count": null,
   "metadata": {},
   "outputs": [],
   "source": [
    "# the first step is to normalize each component to 0..255. In this case we will use the maximum of each value\n",
    "mean2D_255 = 255*mean2D/mean2D.max()\n",
    "max2D_255 = 255*max2D /max2D.max()\n",
    "p70_2D_255 = 255*p70_2D/p70_2D.max()\n",
    "\n",
    "# then, concat and cast to uint8\n",
    "rgb = (np.dstack((mean2D_255,max2D_255,p70_2D_255)) ).astype(np.uint8)\n",
    "print('R=mean, G=max, B=percentil 70')\n",
    "display_RGBimage(rgb)"
   ]
  },
  {
   "cell_type": "markdown",
   "metadata": {},
   "source": [
    "## -- Save a RGB image to a file\n",
    "The same points need to be accounted for as for the images created using colormaps:\n",
    "1. We need to create a subfolder to store the images into.\n",
    "2. When saving, we want to keep the same name as the nifti image that was read \n",
    "3. We also want to avoid saving the white space, axis and so on around the figures"
   ]
  },
  {
   "cell_type": "code",
   "execution_count": null,
   "metadata": {},
   "outputs": [],
   "source": [
    "import os\n",
    "\n",
    "# step 1. \n",
    "outputfolder = basefolder + 'testRGBFolder/'\n",
    "if not os.path.isdir(outputfolder):\n",
    "    os.mkdir(outputfolder)\n",
    "\n",
    "# step 2.  we will use curfname\n",
    "outputfname = outputfolder + curfname + '.png'\n",
    "\n",
    "# step 3. Plot and save without the white space (bbox_inches=0, pad_inches=0)\n",
    "display_RGBimage(rgb)\n",
    "plt.savefig(outputfname, bbox_inches=0, pad_inches = 0, dpi = 100 )"
   ]
  },
  {
   "cell_type": "markdown",
   "metadata": {},
   "source": [
    "# Anatomical planes\n",
    "\n",
    "Up to know, we have only flatten the 3D data using the coronal plane.  There are other planes you may want to explore: axial and sagittal planes (see https://en.wikipedia.org/wiki/Anatomical_plane).  In that case, you will need to use a different axis for the statistical functions or slice a different dimension.  \n",
    "\n",
    "*In this examples we will use ctseg to have more information of the directions."
   ]
  },
  {
   "cell_type": "code",
   "execution_count": null,
   "metadata": {},
   "outputs": [],
   "source": [
    "slicenr = 128;\n",
    "ctaxial2D = ctseg[slicenr,:,:];\n",
    "\n",
    "print('Axial slice '+str(slicenr))\n",
    "display_2Dimage(ctaxial2D)\n",
    "\n",
    "ctsagittal = ctseg[:,slicenr,:];\n",
    "print('Sagittal slice '+str(slicenr))\n",
    "display_2Dimage(ctsagittal)\n",
    "\n",
    "ctcoronal2D = ctseg[:,:,slicenr];\n",
    "print('Coronal slice '+str(slicenr))\n",
    "display_2Dimage(ctcoronal2D)\n"
   ]
  },
  {
   "cell_type": "markdown",
   "metadata": {},
   "source": [
    "# YOUR TURN\n",
    "\n",
    "## 1. Write new code to flatten 3D images using the Axial and Sagittal planes\n",
    "\n",
    "Visualization, flattening and saving using colormaps/RGB components."
   ]
  },
  {
   "cell_type": "code",
   "execution_count": null,
   "metadata": {},
   "outputs": [],
   "source": []
  },
  {
   "cell_type": "markdown",
   "metadata": {},
   "source": [
    "## 2. Apply different flattening strategies to a different image\n",
    "In the data folder there are 1101 files with CTseg, dose cubes and CTVmasks.  The files are named 1.nii, 2.nii, ... 1101.nii.\n",
    "Choose a different file and check all how the flatten data looks like."
   ]
  },
  {
   "cell_type": "code",
   "execution_count": null,
   "metadata": {},
   "outputs": [],
   "source": []
  },
  {
   "cell_type": "markdown",
   "metadata": {},
   "source": [
    "## 3. Choose your image flattening strategy and apply it to all images in the input folders\n",
    "The files inside CTseg, Dose and CTVMask within data folder are named 1.nii, 2.nii, ... 1101.nii.\n"
   ]
  },
  {
   "cell_type": "code",
   "execution_count": null,
   "metadata": {},
   "outputs": [],
   "source": []
  }
 ],
 "metadata": {
  "kernelspec": {
   "display_name": "Python 3",
   "language": "python",
   "name": "python3"
  },
  "language_info": {
   "codemirror_mode": {
    "name": "ipython",
    "version": 3
   },
   "file_extension": ".py",
   "mimetype": "text/x-python",
   "name": "python",
   "nbconvert_exporter": "python",
   "pygments_lexer": "ipython3",
   "version": "3.6.7"
  }
 },
 "nbformat": 4,
 "nbformat_minor": 2
}
