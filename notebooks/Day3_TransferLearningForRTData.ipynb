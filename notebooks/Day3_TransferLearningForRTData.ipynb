{
 "cells": [
  {
   "cell_type": "markdown",
   "metadata": {},
   "source": [
    "# Transfer Learning for RT data\n",
    "\n",
    "In this notebook, you will combine what you learned on the first day (classifying Ants and Bees) to train networks that classify patients into those surviving beyond 12 months, and those who do not survive beyond 12 months.\n",
    "\n",
    "Take ideas from the Day 1 notebook, combine them with the Day 2 notebooks and try to produce a network that can classify patients! You may have to iterate between different ways of flattening and colouring the data to get a good combination of input data and model. Play around!"
   ]
  },
  {
   "cell_type": "code",
   "execution_count": null,
   "metadata": {},
   "outputs": [],
   "source": []
  }
 ],
 "metadata": {
  "kernelspec": {
   "display_name": "Python 3",
   "language": "python",
   "name": "python3"
  },
  "language_info": {
   "codemirror_mode": {
    "name": "ipython",
    "version": 3
   },
   "file_extension": ".py",
   "mimetype": "text/x-python",
   "name": "python",
   "nbconvert_exporter": "python",
   "pygments_lexer": "ipython3",
   "version": "3.6.5"
  }
 },
 "nbformat": 4,
 "nbformat_minor": 2
}
